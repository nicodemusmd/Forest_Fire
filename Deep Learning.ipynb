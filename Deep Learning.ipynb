{
 "cells": [
  {
   "cell_type": "code",
   "execution_count": null,
   "metadata": {},
   "outputs": [],
   "source": [
    "<div style = \"background-image: url('Images/Fire/pot_fire.png'); height: 400px;vertical-align: middle;\">\n",
    "    <p>\n",
    "        <h1 style = \"color: white; text-align: center; line-height: 100px; font-family: serif;\"> <u>Forest Fire Prediction </u> </h1> \n",
    "        <h2 style = \"color: white; text-align: center; font-family: serif;\"> Micigan Technological University </h2> \n",
    "        <h2 style = \"color: white; text-align: center; font-family: serif;\">MA 5751 Fall 2020</h2>\n",
    "        <h3 style = \"color: white; text-align: center; font-family: serif;\"> Michael Nicodemus </h3>\n",
    "    </p>\n",
    "</div>\n",
    "\n",
    "\n",
    "\n",
    "\n",
    "<div style = \"background-color: white; height: 50px; line-height: 50px;\">\n",
    "    <b style = \"font-family: Georgia, serif;\">Data: </b><a href=\"https://archive.ics.uci.edu/ml/datasets/forest+fires\">https://archive.ics.uci.edu/ml/datasets/forest+fires\"</a>\n",
    "    \n",
    "</div>\n",
    "\n",
    "<div style = \"background-color: white; height: 50px; line-height: 50px;\">\n",
    "    <b style = \"font-family: Georgia, serif;\">Github: </b><a href=\"https://archive.ics.uci.edu/ml/datasets/forest+fires\">https://archive.ics.uci.edu/ml/datasets/forest+fires\"</a>\n",
    "    \n",
    "</div>\n",
    "\n",
    "<div style = \"background-color: AliceBlue; font-family: 'Times New Roman', Times, serif; width: 500px; border: 3px solid black\">\n",
    "    <b style = \"font-family: Georgia, serif;\"><u>Summary of Study:</u></b>\n",
    "    <ol>\n",
    "        <li>Variable Selection\n",
    "            <ul>\n",
    "                <li>EDA</li>\n",
    "                <li>Variable Selection (Stepwise & Penalized Likelihood)</li>\n",
    "                <li>Shrinkage Methods</li>\n",
    "                <li>Model Selection on (AIC/BIC & CV)</li>\n",
    "            </ul>\n",
    "        </li>\n",
    "        <li>Classification (With Bootsrap)\n",
    "            <ul>\n",
    "                <li>Logistic Regression</li>\n",
    "                <li>Naive Bayes</li>\n",
    "                <li>SVM </li>\n",
    "                <li>LDA/QDA</li>\n",
    "            </ul>  \n",
    "        </li>\n",
    "        <li>Tree-based Methods\n",
    "            <ul>\n",
    "                <li>Random Forests</li>\n",
    "                <li>Bagging/Boosting</li>\n",
    "                <li>Ensemble Tree</li>\n",
    "            </ul>\n",
    "        </li>\n",
    "        <li>Unsupervised Learning\n",
    "            <ul>\n",
    "                <li>PCA</li>\n",
    "                <li>K Means</li>\n",
    "                <li>Spectral !!</li>\n",
    "            </ul>   \n",
    "        </li>\n",
    "        <li>Deep Learning (With Hyperameter Tuning)\n",
    "            <ul>\n",
    "                <li>Neural Networks</li>\n",
    "                <li>GAMs</li>\n",
    "                <li>MARS (kernal smoothing splines)</li>\n",
    "            </ul>\n",
    "        </li>\n",
    "    </ol> \n",
    "\n",
    "\n",
    "</div>"
   ]
  },
  {
   "cell_type": "code",
   "execution_count": 1,
   "metadata": {},
   "outputs": [],
   "source": [
    "#Import libraries\n",
    "import pandas as pd\n",
    "import numpy as np\n",
    "import scipy as sp\n",
    "\n",
    "from mpl_toolkits.mplot3d import Axes3D\n",
    "import matplotlib.pyplot as plt\n",
    "\n",
    "\n",
    "\n",
    "# from pyearth import Earth\n",
    "\n",
    "#Preprocessing\n",
    "from sklearn import preprocessing\n",
    "from sklearn.preprocessing import StandardScaler\n",
    "\n",
    "#Feature Selection\n",
    "from sklearn.decomposition import PCA\n",
    "\n",
    "####----------------------####\n",
    "####--------Models--------####\n",
    "## NN\n",
    "from sklearn.neural_network import MLPRegressor\n",
    "from sklearn.neural_network import MLPClassifier\n",
    "\n",
    "#Cluster\n",
    "from sklearn.cluster import KMeans\n",
    "from scipy.cluster import hierarchy\n",
    "\n",
    "\n",
    "####----------------------####\n",
    "\n",
    "#Metrics\n",
    "from sklearn.metrics import r2_score\n",
    "from sklearn.metrics import explained_variance_score as EV\n",
    "from sklearn.metrics import mean_absolute_error as MAE\n",
    "from sklearn.metrics import mean_squared_error as MSE\n",
    "\n",
    "\n",
    "#Sampling\n",
    "from sklearn.model_selection import train_test_split as TTS\n",
    "\n",
    "\n",
    "#Custom Libraries\n",
    "#from MyLibrary import Neural_Network_report as nnr\n",
    "#from MyLibrary import RegressionReport as rep\n",
    "from MyLibrary import predRespPlots as prt"
   ]
  },
  {
   "cell_type": "code",
   "execution_count": 2,
   "metadata": {},
   "outputs": [
    {
     "data": {
      "text/html": [
       "<div>\n",
       "<style scoped>\n",
       "    .dataframe tbody tr th:only-of-type {\n",
       "        vertical-align: middle;\n",
       "    }\n",
       "\n",
       "    .dataframe tbody tr th {\n",
       "        vertical-align: top;\n",
       "    }\n",
       "\n",
       "    .dataframe thead th {\n",
       "        text-align: right;\n",
       "    }\n",
       "</style>\n",
       "<table border=\"1\" class=\"dataframe\">\n",
       "  <thead>\n",
       "    <tr style=\"text-align: right;\">\n",
       "      <th></th>\n",
       "      <th>X</th>\n",
       "      <th>Y</th>\n",
       "      <th>month</th>\n",
       "      <th>day</th>\n",
       "      <th>FFMC</th>\n",
       "      <th>DMC</th>\n",
       "      <th>DC</th>\n",
       "      <th>ISI</th>\n",
       "      <th>temp</th>\n",
       "      <th>RH</th>\n",
       "      <th>wind</th>\n",
       "      <th>rain</th>\n",
       "      <th>area</th>\n",
       "    </tr>\n",
       "  </thead>\n",
       "  <tbody>\n",
       "    <tr>\n",
       "      <th>0</th>\n",
       "      <td>7</td>\n",
       "      <td>5</td>\n",
       "      <td>mar</td>\n",
       "      <td>fri</td>\n",
       "      <td>86.2</td>\n",
       "      <td>26.2</td>\n",
       "      <td>94.3</td>\n",
       "      <td>5.1</td>\n",
       "      <td>8.2</td>\n",
       "      <td>51</td>\n",
       "      <td>6.7</td>\n",
       "      <td>0.0</td>\n",
       "      <td>0.0</td>\n",
       "    </tr>\n",
       "    <tr>\n",
       "      <th>1</th>\n",
       "      <td>7</td>\n",
       "      <td>4</td>\n",
       "      <td>oct</td>\n",
       "      <td>tue</td>\n",
       "      <td>90.6</td>\n",
       "      <td>35.4</td>\n",
       "      <td>669.1</td>\n",
       "      <td>6.7</td>\n",
       "      <td>18.0</td>\n",
       "      <td>33</td>\n",
       "      <td>0.9</td>\n",
       "      <td>0.0</td>\n",
       "      <td>0.0</td>\n",
       "    </tr>\n",
       "    <tr>\n",
       "      <th>2</th>\n",
       "      <td>7</td>\n",
       "      <td>4</td>\n",
       "      <td>oct</td>\n",
       "      <td>sat</td>\n",
       "      <td>90.6</td>\n",
       "      <td>43.7</td>\n",
       "      <td>686.9</td>\n",
       "      <td>6.7</td>\n",
       "      <td>14.6</td>\n",
       "      <td>33</td>\n",
       "      <td>1.3</td>\n",
       "      <td>0.0</td>\n",
       "      <td>0.0</td>\n",
       "    </tr>\n",
       "    <tr>\n",
       "      <th>3</th>\n",
       "      <td>8</td>\n",
       "      <td>6</td>\n",
       "      <td>mar</td>\n",
       "      <td>fri</td>\n",
       "      <td>91.7</td>\n",
       "      <td>33.3</td>\n",
       "      <td>77.5</td>\n",
       "      <td>9.0</td>\n",
       "      <td>8.3</td>\n",
       "      <td>97</td>\n",
       "      <td>4.0</td>\n",
       "      <td>0.2</td>\n",
       "      <td>0.0</td>\n",
       "    </tr>\n",
       "    <tr>\n",
       "      <th>4</th>\n",
       "      <td>8</td>\n",
       "      <td>6</td>\n",
       "      <td>mar</td>\n",
       "      <td>sun</td>\n",
       "      <td>89.3</td>\n",
       "      <td>51.3</td>\n",
       "      <td>102.2</td>\n",
       "      <td>9.6</td>\n",
       "      <td>11.4</td>\n",
       "      <td>99</td>\n",
       "      <td>1.8</td>\n",
       "      <td>0.0</td>\n",
       "      <td>0.0</td>\n",
       "    </tr>\n",
       "  </tbody>\n",
       "</table>\n",
       "</div>"
      ],
      "text/plain": [
       "   X  Y month  day  FFMC   DMC     DC  ISI  temp  RH  wind  rain  area\n",
       "0  7  5   mar  fri  86.2  26.2   94.3  5.1   8.2  51   6.7   0.0   0.0\n",
       "1  7  4   oct  tue  90.6  35.4  669.1  6.7  18.0  33   0.9   0.0   0.0\n",
       "2  7  4   oct  sat  90.6  43.7  686.9  6.7  14.6  33   1.3   0.0   0.0\n",
       "3  8  6   mar  fri  91.7  33.3   77.5  9.0   8.3  97   4.0   0.2   0.0\n",
       "4  8  6   mar  sun  89.3  51.3  102.2  9.6  11.4  99   1.8   0.0   0.0"
      ]
     },
     "execution_count": 2,
     "metadata": {},
     "output_type": "execute_result"
    }
   ],
   "source": [
    "#Import data\n",
    "file = \"Data/forestfires.csv\"\n",
    "fire = pd.read_csv(file)\n",
    "fire.head()"
   ]
  },
  {
   "cell_type": "markdown",
   "metadata": {},
   "source": [
    "## EDA"
   ]
  },
  {
   "cell_type": "code",
   "execution_count": 3,
   "metadata": {},
   "outputs": [
    {
     "data": {
      "image/png": "[encoded data removed]",
      "text/plain": [
       "<Figure size 432x288 with 1 Axes>"
      ]
     },
     "metadata": {
      "needs_background": "light"
     },
     "output_type": "display_data"
    },
    {
     "data": {
      "image/png": "[encoded data removed]",
      "text/plain": [
       "<Figure size 432x288 with 1 Axes>"
      ]
     },
     "metadata": {
      "needs_background": "light"
     },
     "output_type": "display_data"
    },
    {
     "data": {
      "image/png": "[encoded data removed]",
      "text/plain": [
       "<Figure size 432x288 with 1 Axes>"
      ]
     },
     "metadata": {
      "needs_background": "light"
     },
     "output_type": "display_data"
    },
    {
     "data": {
      "image/png": "[encoded data removed]",
      "text/plain": [
       "<Figure size 432x288 with 1 Axes>"
      ]
     },
     "metadata": {
      "needs_background": "light"
     },
     "output_type": "display_data"
    },
    {
     "data": {
      "image/png": "[encoded data removed]",
      "text/plain": [
       "<Figure size 432x288 with 1 Axes>"
      ]
     },
     "metadata": {
      "needs_background": "light"
     },
     "output_type": "display_data"
    },
    {
     "data": {
      "image/png": "[encoded data removed]",
      "text/plain": [
       "<Figure size 432x288 with 1 Axes>"
      ]
     },
     "metadata": {
      "needs_background": "light"
     },
     "output_type": "display_data"
    },
    {
     "data": {
      "image/png": "[encoded data removed]",
      "text/plain": [
       "<Figure size 432x288 with 1 Axes>"
      ]
     },
     "metadata": {
      "needs_background": "light"
     },
     "output_type": "display_data"
    },
    {
     "data": {
      "image/png": "[encoded data removed]",
      "text/plain": [
       "<Figure size 432x288 with 1 Axes>"
      ]
     },
     "metadata": {
      "needs_background": "light"
     },
     "output_type": "display_data"
    },
    {
     "data": {
      "image/png": "[encoded data removed]",
      "text/plain": [
       "<Figure size 432x288 with 1 Axes>"
      ]
     },
     "metadata": {
      "needs_background": "light"
     },
     "output_type": "display_data"
    },
    {
     "data": {
      "image/png": "[encoded data removed]",
      "text/plain": [
       "<Figure size 432x288 with 1 Axes>"
      ]
     },
     "metadata": {
      "needs_background": "light"
     },
     "output_type": "display_data"
    },
    {
     "data": {
      "image/png": "[encoded data removed]",
      "text/plain": [
       "<Figure size 432x288 with 1 Axes>"
      ]
     },
     "metadata": {
      "needs_background": "light"
     },
     "output_type": "display_data"
    },
    {
     "data": {
      "image/png": "[encoded data removed]",
      "text/plain": [
       "<Figure size 432x288 with 1 Axes>"
      ]
     },
     "metadata": {
      "needs_background": "light"
     },
     "output_type": "display_data"
    }
   ],
   "source": [
    "# custom function that will plot all predictors against response. This will save plots to Images/PredRespPlots unless \n",
    "# the save argument is removed/set to False.\n",
    "prt(fire, \"area\", save = True, path = \"Images/predRespPlots\")"
   ]
  },
  {
   "cell_type": "code",
   "execution_count": 93,
   "metadata": {},
   "outputs": [
    {
     "data": {
      "text/html": [
       "<div>\n",
       "<style scoped>\n",
       "    .dataframe tbody tr th:only-of-type {\n",
       "        vertical-align: middle;\n",
       "    }\n",
       "\n",
       "    .dataframe tbody tr th {\n",
       "        vertical-align: top;\n",
       "    }\n",
       "\n",
       "    .dataframe thead th {\n",
       "        text-align: right;\n",
       "    }\n",
       "</style>\n",
       "<table border=\"1\" class=\"dataframe\">\n",
       "  <thead>\n",
       "    <tr style=\"text-align: right;\">\n",
       "      <th></th>\n",
       "      <th>X</th>\n",
       "      <th>Y</th>\n",
       "      <th>FFMC</th>\n",
       "      <th>DMC</th>\n",
       "      <th>DC</th>\n",
       "      <th>ISI</th>\n",
       "      <th>temp</th>\n",
       "      <th>RH</th>\n",
       "      <th>wind</th>\n",
       "      <th>rain</th>\n",
       "      <th>area</th>\n",
       "    </tr>\n",
       "  </thead>\n",
       "  <tbody>\n",
       "    <tr>\n",
       "      <th>count</th>\n",
       "      <td>517.000000</td>\n",
       "      <td>517.000000</td>\n",
       "      <td>517.000000</td>\n",
       "      <td>517.000000</td>\n",
       "      <td>517.000000</td>\n",
       "      <td>517.000000</td>\n",
       "      <td>517.000000</td>\n",
       "      <td>517.000000</td>\n",
       "      <td>517.000000</td>\n",
       "      <td>517.000000</td>\n",
       "      <td>517.000000</td>\n",
       "    </tr>\n",
       "    <tr>\n",
       "      <th>mean</th>\n",
       "      <td>4.669246</td>\n",
       "      <td>4.299807</td>\n",
       "      <td>90.644681</td>\n",
       "      <td>110.872340</td>\n",
       "      <td>547.940039</td>\n",
       "      <td>9.021663</td>\n",
       "      <td>18.889168</td>\n",
       "      <td>44.288201</td>\n",
       "      <td>4.017602</td>\n",
       "      <td>0.021663</td>\n",
       "      <td>12.847292</td>\n",
       "    </tr>\n",
       "    <tr>\n",
       "      <th>std</th>\n",
       "      <td>2.313778</td>\n",
       "      <td>1.229900</td>\n",
       "      <td>5.520111</td>\n",
       "      <td>64.046482</td>\n",
       "      <td>248.066192</td>\n",
       "      <td>4.559477</td>\n",
       "      <td>5.806625</td>\n",
       "      <td>16.317469</td>\n",
       "      <td>1.791653</td>\n",
       "      <td>0.295959</td>\n",
       "      <td>63.655818</td>\n",
       "    </tr>\n",
       "    <tr>\n",
       "      <th>min</th>\n",
       "      <td>1.000000</td>\n",
       "      <td>2.000000</td>\n",
       "      <td>18.700000</td>\n",
       "      <td>1.100000</td>\n",
       "      <td>7.900000</td>\n",
       "      <td>0.000000</td>\n",
       "      <td>2.200000</td>\n",
       "      <td>15.000000</td>\n",
       "      <td>0.400000</td>\n",
       "      <td>0.000000</td>\n",
       "      <td>0.000000</td>\n",
       "    </tr>\n",
       "    <tr>\n",
       "      <th>25%</th>\n",
       "      <td>3.000000</td>\n",
       "      <td>4.000000</td>\n",
       "      <td>90.200000</td>\n",
       "      <td>68.600000</td>\n",
       "      <td>437.700000</td>\n",
       "      <td>6.500000</td>\n",
       "      <td>15.500000</td>\n",
       "      <td>33.000000</td>\n",
       "      <td>2.700000</td>\n",
       "      <td>0.000000</td>\n",
       "      <td>0.000000</td>\n",
       "    </tr>\n",
       "    <tr>\n",
       "      <th>50%</th>\n",
       "      <td>4.000000</td>\n",
       "      <td>4.000000</td>\n",
       "      <td>91.600000</td>\n",
       "      <td>108.300000</td>\n",
       "      <td>664.200000</td>\n",
       "      <td>8.400000</td>\n",
       "      <td>19.300000</td>\n",
       "      <td>42.000000</td>\n",
       "      <td>4.000000</td>\n",
       "      <td>0.000000</td>\n",
       "      <td>0.520000</td>\n",
       "    </tr>\n",
       "    <tr>\n",
       "      <th>75%</th>\n",
       "      <td>7.000000</td>\n",
       "      <td>5.000000</td>\n",
       "      <td>92.900000</td>\n",
       "      <td>142.400000</td>\n",
       "      <td>713.900000</td>\n",
       "      <td>10.800000</td>\n",
       "      <td>22.800000</td>\n",
       "      <td>53.000000</td>\n",
       "      <td>4.900000</td>\n",
       "      <td>0.000000</td>\n",
       "      <td>6.570000</td>\n",
       "    </tr>\n",
       "    <tr>\n",
       "      <th>max</th>\n",
       "      <td>9.000000</td>\n",
       "      <td>9.000000</td>\n",
       "      <td>96.200000</td>\n",
       "      <td>291.300000</td>\n",
       "      <td>860.600000</td>\n",
       "      <td>56.100000</td>\n",
       "      <td>33.300000</td>\n",
       "      <td>100.000000</td>\n",
       "      <td>9.400000</td>\n",
       "      <td>6.400000</td>\n",
       "      <td>1090.840000</td>\n",
       "    </tr>\n",
       "  </tbody>\n",
       "</table>\n",
       "</div>"
      ],
      "text/plain": [
       "                X           Y        FFMC         DMC          DC         ISI  \\\n",
       "count  517.000000  517.000000  517.000000  517.000000  517.000000  517.000000   \n",
       "mean     4.669246    4.299807   90.644681  110.872340  547.940039    9.021663   \n",
       "std      2.313778    1.229900    5.520111   64.046482  248.066192    4.559477   \n",
       "min      1.000000    2.000000   18.700000    1.100000    7.900000    0.000000   \n",
       "25%      3.000000    4.000000   90.200000   68.600000  437.700000    6.500000   \n",
       "50%      4.000000    4.000000   91.600000  108.300000  664.200000    8.400000   \n",
       "75%      7.000000    5.000000   92.900000  142.400000  713.900000   10.800000   \n",
       "max      9.000000    9.000000   96.200000  291.300000  860.600000   56.100000   \n",
       "\n",
       "             temp          RH        wind        rain         area  \n",
       "count  517.000000  517.000000  517.000000  517.000000   517.000000  \n",
       "mean    18.889168   44.288201    4.017602    0.021663    12.847292  \n",
       "std      5.806625   16.317469    1.791653    0.295959    63.655818  \n",
       "min      2.200000   15.000000    0.400000    0.000000     0.000000  \n",
       "25%     15.500000   33.000000    2.700000    0.000000     0.000000  \n",
       "50%     19.300000   42.000000    4.000000    0.000000     0.520000  \n",
       "75%     22.800000   53.000000    4.900000    0.000000     6.570000  \n",
       "max     33.300000  100.000000    9.400000    6.400000  1090.840000  "
      ]
     },
     "execution_count": 93,
     "metadata": {},
     "output_type": "execute_result"
    }
   ],
   "source": [
    "fire.describe()"
   ]
  },
  {
   "cell_type": "code",
   "execution_count": 146,
   "metadata": {},
   "outputs": [
    {
     "name": "stdout",
     "output_type": "stream",
     "text": [
      "184.5\n",
      "14.36\n",
      "92000.7\n",
      "223.01\n"
     ]
    },
    {
     "data": {
      "text/plain": [
       "{(3, 4): [126.35, 43],\n",
       " (4, 3): [172.88, 22],\n",
       " (5, 4): [73.75, 23],\n",
       " (4, 6): [87.73, 8],\n",
       " (9, 5): [8.16, 2],\n",
       " (8, 3): [26.31, 3],\n",
       " (8, 6): [1265.3, 52],\n",
       " (2, 2): [462.65, 25],\n",
       " (2, 5): [92.63, 20],\n",
       " (1, 3): [157.14, 10],\n",
       " (7, 4): [474.37, 45],\n",
       " (6, 5): [1384.05, 49],\n",
       " (4, 5): [287.01, 25],\n",
       " (3, 3): [6.58, 1],\n",
       " (5, 6): [17.62, 4],\n",
       " (3, 6): [0.0, 4],\n",
       " (8, 5): [2.93, 4],\n",
       " (9, 4): [185.61, 4],\n",
       " (8, 8): [185.76, 1],\n",
       " (2, 4): [143.37, 27],\n",
       " (1, 2): [219.94, 19],\n",
       " (1, 5): [115.47, 4],\n",
       " (6, 4): [144.47, 9],\n",
       " (7, 3): [27.35, 2],\n",
       " (7, 6): [86.45, 2],\n",
       " (3, 5): [2.18, 7],\n",
       " (4, 4): [397.43, 36],\n",
       " (5, 5): [0.0, 3],\n",
       " (8, 4): [12.18, 1],\n",
       " (9, 9): [4.47, 6],\n",
       " (9, 6): [42.87, 1],\n",
       " (1, 4): [150.28, 15],\n",
       " (2, 3): [0.0, 1],\n",
       " (6, 6): [8.59, 3],\n",
       " (7, 5): [77.39, 11],\n",
       " (6, 3): [192.78, 25]}"
      ]
     },
     "execution_count": 146,
     "metadata": {},
     "output_type": "execute_result"
    }
   ],
   "source": [
    "o = list(set([(x,y) for (x,y) in zip(fire.X, fire.Y)]))\n",
    "\n",
    "coor_burnt = {(i,j): [0,0] for (i,j) in o} ###[total_area_burnt, num_of_fires]\n",
    "\n",
    "for k in range(len(fire)):\n",
    "    i = int(fire['X'][k])\n",
    "    j = int(fire['Y'][k])\n",
    "    coor_burnt[(i,j)][0] += fire['area'][k]\n",
    "    coor_burnt[(i,j)][1] +=1\n",
    "    \n",
    "\n",
    "for m in coor_burnt.keys():\n",
    "    a = round(coor_burnt[m][0],2)\n",
    "    coor_burnt[m][0] = a\n",
    "\n",
    "\n",
    "tot_area = []\n",
    "tot_incidences = []\n",
    "for coor in coor_burnt.keys():\n",
    "    tot_area.append(coor_burnt[coor][0])\n",
    "    tot_incidences.append(coor_burnt[coor][1])\n",
    "mean_area = round(np.mean(tot_area),2)\n",
    "mean_incid = round(np.mean(tot_incidences),2)\n",
    "var_area = round(np.var(tot_area),2)\n",
    "var_incid = round(np.var(tot_incidences),2)\n",
    "\n",
    "print(mean_area)\n",
    "print(mean_incid)\n",
    "print(var_area)\n",
    "print(var_incid)\n",
    "coor_burnt\n",
    "    "
   ]
  },
  {
   "cell_type": "markdown",
   "metadata": {},
   "source": [
    "<div style = \"background-image: url('Images/Fire/Map.png'); width: 1158px; height: 717px; vertical-align: middle;\">"
   ]
  },
  {
   "cell_type": "code",
   "execution_count": null,
   "metadata": {},
   "outputs": [],
   "source": [
    "#fire.month.unique()\n",
    "months = ['jan', 'feb', 'mar', 'apr', 'may', 'jun', 'jul', 'aug', 'sep', 'oct', 'nov', 'dec']\n",
    "month_val = {mon: round(np.sin(2*months.index(mon)*np.pi/12),2) for mon in months}\n",
    "\n",
    "def get_val(s):\n",
    "    return month_val[s]\n",
    "\n",
    "def is_weekend(d):\n",
    "    if d in ['fri', 'sat', 'sun']:\n",
    "        return 1\n",
    "    else:\n",
    "        return 0\n",
    "    \n",
    "fire[\"Month_Cycle_Score\"] = fire['month'].apply(get_val)\n",
    "fire[\"Weekend\"] = fire['day'].apply(is_weekend)\n",
    "\n",
    "X = fire.drop(columns = ['month', 'day', 'area'])\n",
    "\n",
    "\n",
    "y = np.log(fire[\"area\"] + 1)\n",
    "\n",
    "X.head()"
   ]
  },
  {
   "cell_type": "code",
   "execution_count": null,
   "metadata": {},
   "outputs": [],
   "source": []
  },
  {
   "cell_type": "code",
   "execution_count": null,
   "metadata": {},
   "outputs": [],
   "source": []
  },
  {
   "cell_type": "code",
   "execution_count": null,
   "metadata": {},
   "outputs": [],
   "source": []
  },
  {
   "cell_type": "code",
   "execution_count": null,
   "metadata": {},
   "outputs": [],
   "source": []
  },
  {
   "cell_type": "code",
   "execution_count": null,
   "metadata": {},
   "outputs": [],
   "source": [
    "\n"
   ]
  },
  {
   "cell_type": "code",
   "execution_count": null,
   "metadata": {},
   "outputs": [],
   "source": []
  },
  {
   "cell_type": "code",
   "execution_count": null,
   "metadata": {},
   "outputs": [],
   "source": []
  },
  {
   "cell_type": "code",
   "execution_count": null,
   "metadata": {},
   "outputs": [],
   "source": []
  },
  {
   "cell_type": "code",
   "execution_count": null,
   "metadata": {},
   "outputs": [],
   "source": []
  },
  {
   "cell_type": "code",
   "execution_count": null,
   "metadata": {},
   "outputs": [],
   "source": []
  },
  {
   "cell_type": "code",
   "execution_count": 126,
   "metadata": {},
   "outputs": [
    {
     "data": {
      "text/html": [
       "<div>\n",
       "<style scoped>\n",
       "    .dataframe tbody tr th:only-of-type {\n",
       "        vertical-align: middle;\n",
       "    }\n",
       "\n",
       "    .dataframe tbody tr th {\n",
       "        vertical-align: top;\n",
       "    }\n",
       "\n",
       "    .dataframe thead th {\n",
       "        text-align: right;\n",
       "    }\n",
       "</style>\n",
       "<table border=\"1\" class=\"dataframe\">\n",
       "  <thead>\n",
       "    <tr style=\"text-align: right;\">\n",
       "      <th></th>\n",
       "      <th>X</th>\n",
       "      <th>Y</th>\n",
       "      <th>FFMC</th>\n",
       "      <th>DMC</th>\n",
       "      <th>DC</th>\n",
       "      <th>ISI</th>\n",
       "      <th>temp</th>\n",
       "      <th>RH</th>\n",
       "      <th>wind</th>\n",
       "      <th>rain</th>\n",
       "      <th>Month_Cycle_Score</th>\n",
       "      <th>Weekend</th>\n",
       "    </tr>\n",
       "  </thead>\n",
       "  <tbody>\n",
       "    <tr>\n",
       "      <th>0</th>\n",
       "      <td>7</td>\n",
       "      <td>5</td>\n",
       "      <td>86.2</td>\n",
       "      <td>26.2</td>\n",
       "      <td>94.3</td>\n",
       "      <td>5.1</td>\n",
       "      <td>8.2</td>\n",
       "      <td>51</td>\n",
       "      <td>6.7</td>\n",
       "      <td>0.0</td>\n",
       "      <td>0.87</td>\n",
       "      <td>1</td>\n",
       "    </tr>\n",
       "    <tr>\n",
       "      <th>1</th>\n",
       "      <td>7</td>\n",
       "      <td>4</td>\n",
       "      <td>90.6</td>\n",
       "      <td>35.4</td>\n",
       "      <td>669.1</td>\n",
       "      <td>6.7</td>\n",
       "      <td>18.0</td>\n",
       "      <td>33</td>\n",
       "      <td>0.9</td>\n",
       "      <td>0.0</td>\n",
       "      <td>-1.00</td>\n",
       "      <td>0</td>\n",
       "    </tr>\n",
       "    <tr>\n",
       "      <th>2</th>\n",
       "      <td>7</td>\n",
       "      <td>4</td>\n",
       "      <td>90.6</td>\n",
       "      <td>43.7</td>\n",
       "      <td>686.9</td>\n",
       "      <td>6.7</td>\n",
       "      <td>14.6</td>\n",
       "      <td>33</td>\n",
       "      <td>1.3</td>\n",
       "      <td>0.0</td>\n",
       "      <td>-1.00</td>\n",
       "      <td>1</td>\n",
       "    </tr>\n",
       "    <tr>\n",
       "      <th>3</th>\n",
       "      <td>8</td>\n",
       "      <td>6</td>\n",
       "      <td>91.7</td>\n",
       "      <td>33.3</td>\n",
       "      <td>77.5</td>\n",
       "      <td>9.0</td>\n",
       "      <td>8.3</td>\n",
       "      <td>97</td>\n",
       "      <td>4.0</td>\n",
       "      <td>0.2</td>\n",
       "      <td>0.87</td>\n",
       "      <td>1</td>\n",
       "    </tr>\n",
       "    <tr>\n",
       "      <th>4</th>\n",
       "      <td>8</td>\n",
       "      <td>6</td>\n",
       "      <td>89.3</td>\n",
       "      <td>51.3</td>\n",
       "      <td>102.2</td>\n",
       "      <td>9.6</td>\n",
       "      <td>11.4</td>\n",
       "      <td>99</td>\n",
       "      <td>1.8</td>\n",
       "      <td>0.0</td>\n",
       "      <td>0.87</td>\n",
       "      <td>1</td>\n",
       "    </tr>\n",
       "  </tbody>\n",
       "</table>\n",
       "</div>"
      ],
      "text/plain": [
       "   X  Y  FFMC   DMC     DC  ISI  temp  RH  wind  rain  Month_Cycle_Score  \\\n",
       "0  7  5  86.2  26.2   94.3  5.1   8.2  51   6.7   0.0               0.87   \n",
       "1  7  4  90.6  35.4  669.1  6.7  18.0  33   0.9   0.0              -1.00   \n",
       "2  7  4  90.6  43.7  686.9  6.7  14.6  33   1.3   0.0              -1.00   \n",
       "3  8  6  91.7  33.3   77.5  9.0   8.3  97   4.0   0.2               0.87   \n",
       "4  8  6  89.3  51.3  102.2  9.6  11.4  99   1.8   0.0               0.87   \n",
       "\n",
       "   Weekend  \n",
       "0        1  \n",
       "1        0  \n",
       "2        1  \n",
       "3        1  \n",
       "4        1  "
      ]
     },
     "execution_count": 126,
     "metadata": {},
     "output_type": "execute_result"
    }
   ],
   "source": [
    "#fire.month.unique()\n",
    "months = ['jan', 'feb', 'mar', 'apr', 'may', 'jun', 'jul', 'aug', 'sep', 'oct', 'nov', 'dec']\n",
    "month_val = {mon: round(np.sin(2*months.index(mon)*np.pi/12),2) for mon in months}\n",
    "\n",
    "def get_val(s):\n",
    "    return month_val[s]\n",
    "\n",
    "def is_weekend(d):\n",
    "    if d in ['fri', 'sat', 'sun']:\n",
    "        return 1\n",
    "    else:\n",
    "        return 0\n",
    "    \n",
    "fire[\"Month_Cycle_Score\"] = fire['month'].apply(get_val)\n",
    "fire[\"Weekend\"] = fire['day'].apply(is_weekend)\n",
    "\n",
    "X = fire.drop(columns = ['month', 'day', 'area'])\n",
    "\n",
    "\n",
    "y = np.log(fire[\"area\"] + 1)\n",
    "\n",
    "X.head()"
   ]
  },
  {
   "cell_type": "code",
   "execution_count": 145,
   "metadata": {},
   "outputs": [
    {
     "data": {
      "text/plain": [
       "<matplotlib.collections.PathCollection at 0x257f1055550>"
      ]
     },
     "execution_count": 145,
     "metadata": {},
     "output_type": "execute_result"
    },
    {
     "data": {
      "image/png": "[encoded data removed]",
      "text/plain": [
       "<Figure size 432x288 with 1 Axes>"
      ]
     },
     "metadata": {
      "needs_background": "light"
     },
     "output_type": "display_data"
    }
   ],
   "source": [
    "plt.figure()\n",
    "wind_sc = (X.wind - np.mean(X.wind))/np.std(X.wind)\n",
    "plt.scatter(wind_sc, y_sc)"
   ]
  },
  {
   "cell_type": "code",
   "execution_count": 142,
   "metadata": {},
   "outputs": [],
   "source": [
    "n = (X.wind - np.mean(X.wind))/np.std(X.wind)\n"
   ]
  },
  {
   "cell_type": "code",
   "execution_count": 34,
   "metadata": {},
   "outputs": [],
   "source": [
    "#Split the Data\n",
    "X_train, X_test, y_train, y_test = TTS(X, y, test_size = 0.2, random_state = 5)"
   ]
  },
  {
   "cell_type": "code",
   "execution_count": 35,
   "metadata": {},
   "outputs": [],
   "source": [
    "#Scale data\n",
    "sc_X = StandardScaler()\n",
    "X_trainscaled=sc_X.fit_transform(X_train)\n",
    "X_testscaled=sc_X.transform(X_test)"
   ]
  },
  {
   "cell_type": "code",
   "execution_count": 135,
   "metadata": {},
   "outputs": [
    {
     "data": {
      "text/plain": [
       "(12, 413)"
      ]
     },
     "execution_count": 135,
     "metadata": {},
     "output_type": "execute_result"
    }
   ],
   "source": [
    "#plt.figure()\n",
    "#plt.scatter(X_testscaled.wind, y)\n",
    "\n"
   ]
  },
  {
   "cell_type": "code",
   "execution_count": 51,
   "metadata": {},
   "outputs": [
    {
     "name": "stdout",
     "output_type": "stream",
     "text": [
      "\n",
      "\n",
      "---------------------------------------\n",
      "---------------------------------------\n",
      "Model: relu \n",
      "Layers: 7 \n",
      "Size: (25, 25, 25, 25, 25)\n",
      "Mean Response: 1\n",
      "MSE: 2.43\n",
      "Relative MSE: 219.82% of mean response.\n",
      "R^2 Score: -0.41\n",
      "Explained Variace: -0.4\n",
      "Mean Absolute Error: 1.17\n",
      "---------------------------------------\n",
      "---------------------------------------\n",
      "\n",
      "\n",
      "\n",
      "\n",
      "---------------------------------------\n",
      "---------------------------------------\n",
      "Model: logistic \n",
      "Layers: 7 \n",
      "Size: (25, 25, 25, 25, 25)\n",
      "Mean Response: 1\n",
      "MSE: 1.73\n",
      "Relative MSE: 156.22% of mean response.\n",
      "R^2 Score: -0.0\n",
      "Explained Variace: -0.0\n",
      "Mean Absolute Error: 1.03\n",
      "---------------------------------------\n",
      "---------------------------------------\n",
      "\n",
      "\n",
      "\n",
      "\n",
      "---------------------------------------\n",
      "---------------------------------------\n",
      "Model: tanh \n",
      "Layers: 7 \n",
      "Size: (25, 25, 25, 25, 25)\n",
      "Mean Response: 1\n",
      "MSE: 1.68\n",
      "Relative MSE: 151.79% of mean response.\n",
      "R^2 Score: 0.03\n",
      "Explained Variace: 0.03\n",
      "Mean Absolute Error: 1.01\n",
      "---------------------------------------\n",
      "---------------------------------------\n",
      "\n",
      "\n",
      "\n",
      "\n",
      "---------------------------------------\n",
      "---------------------------------------\n",
      "Model: relu \n",
      "Layers: 5 \n",
      "Size: (100, 100, 100)\n",
      "Mean Response: 1\n",
      "MSE: 1.97\n",
      "Relative MSE: 178.66% of mean response.\n",
      "R^2 Score: -0.14\n",
      "Explained Variace: -0.14\n",
      "Mean Absolute Error: 1.06\n",
      "---------------------------------------\n",
      "---------------------------------------\n",
      "\n",
      "\n",
      "\n",
      "\n",
      "---------------------------------------\n",
      "---------------------------------------\n",
      "Model: logistic \n",
      "Layers: 5 \n",
      "Size: (100, 100, 100)\n",
      "Mean Response: 1\n",
      "MSE: 1.73\n",
      "Relative MSE: 156.22% of mean response.\n",
      "R^2 Score: -0.0\n",
      "Explained Variace: -0.0\n",
      "Mean Absolute Error: 1.02\n",
      "---------------------------------------\n",
      "---------------------------------------\n",
      "\n",
      "\n",
      "\n",
      "\n",
      "---------------------------------------\n",
      "---------------------------------------\n",
      "Model: tanh \n",
      "Layers: 5 \n",
      "Size: (100, 100, 100)\n",
      "Mean Response: 1\n",
      "MSE: 1.71\n",
      "Relative MSE: 155.13% of mean response.\n",
      "R^2 Score: 0.01\n",
      "Explained Variace: 0.01\n",
      "Mean Absolute Error: 1.02\n",
      "---------------------------------------\n",
      "---------------------------------------\n",
      "\n",
      "\n",
      "\n",
      "\n",
      "---------------------------------------\n",
      "---------------------------------------\n",
      "Model: relu \n",
      "Layers: 12 \n",
      "Size: (10, 10, 10, 10, 10, 10, 10, 10, 10, 10)\n",
      "Mean Response: 1\n",
      "MSE: 1.73\n",
      "Relative MSE: 156.15% of mean response.\n",
      "R^2 Score: 0.0\n",
      "Explained Variace: 0.0\n",
      "Mean Absolute Error: 1.03\n",
      "---------------------------------------\n",
      "---------------------------------------\n",
      "\n",
      "\n",
      "\n",
      "\n",
      "---------------------------------------\n",
      "---------------------------------------\n",
      "Model: logistic \n",
      "Layers: 12 \n",
      "Size: (10, 10, 10, 10, 10, 10, 10, 10, 10, 10)\n",
      "Mean Response: 1\n",
      "MSE: 1.73\n",
      "Relative MSE: 156.22% of mean response.\n",
      "R^2 Score: -0.0\n",
      "Explained Variace: 0.0\n",
      "Mean Absolute Error: 1.02\n",
      "---------------------------------------\n",
      "---------------------------------------\n",
      "\n",
      "\n",
      "\n",
      "\n",
      "---------------------------------------\n",
      "---------------------------------------\n",
      "Model: tanh \n",
      "Layers: 12 \n",
      "Size: (10, 10, 10, 10, 10, 10, 10, 10, 10, 10)\n",
      "Mean Response: 1\n",
      "MSE: 1.75\n",
      "Relative MSE: 158.16% of mean response.\n",
      "R^2 Score: -0.01\n",
      "Explained Variace: -0.01\n",
      "Mean Absolute Error: 1.03\n",
      "---------------------------------------\n",
      "---------------------------------------\n",
      "\n",
      "\n"
     ]
    },
    {
     "data": {
      "image/png": "[encoded data removed]",
      "text/plain": [
       "<Figure size 432x288 with 1 Axes>"
      ]
     },
     "metadata": {
      "needs_background": "light"
     },
     "output_type": "display_data"
    },
    {
     "data": {
      "image/png": "[encoded data removed]",
      "text/plain": [
       "<Figure size 432x288 with 1 Axes>"
      ]
     },
     "metadata": {
      "needs_background": "light"
     },
     "output_type": "display_data"
    },
    {
     "data": {
      "image/png": "[encoded data removed]",
      "text/plain": [
       "<Figure size 432x288 with 1 Axes>"
      ]
     },
     "metadata": {
      "needs_background": "light"
     },
     "output_type": "display_data"
    },
    {
     "data": {
      "image/png": "[encoded data removed]",
      "text/plain": [
       "<Figure size 432x288 with 1 Axes>"
      ]
     },
     "metadata": {
      "needs_background": "light"
     },
     "output_type": "display_data"
    },
    {
     "data": {
      "image/png": "[encoded data removed]",
      "text/plain": [
       "<Figure size 432x288 with 1 Axes>"
      ]
     },
     "metadata": {
      "needs_background": "light"
     },
     "output_type": "display_data"
    },
    {
     "data": {
      "image/png": "[encoded data removed]",
      "text/plain": [
       "<Figure size 432x288 with 1 Axes>"
      ]
     },
     "metadata": {
      "needs_background": "light"
     },
     "output_type": "display_data"
    },
    {
     "data": {
      "image/png": "[encoded data removed]",
      "text/plain": [
       "<Figure size 432x288 with 1 Axes>"
      ]
     },
     "metadata": {
      "needs_background": "light"
     },
     "output_type": "display_data"
    },
    {
     "data": {
      "image/png": "[encoded data removed]",
      "text/plain": [
       "<Figure size 432x288 with 1 Axes>"
      ]
     },
     "metadata": {
      "needs_background": "light"
     },
     "output_type": "display_data"
    },
    {
     "data": {
      "image/png": "[encoded data removed]",
      "text/plain": [
       "<Figure size 432x288 with 1 Axes>"
      ]
     },
     "metadata": {
      "needs_background": "light"
     },
     "output_type": "display_data"
    }
   ],
   "source": [
    "sizes = [(25,25,25,25,25), (100,100,100), (10,10,10,10,10,10,10,10,10,10)]\n",
    "\n",
    "#sizes = [tuple(12 for i in range(100)), tuple(12 for i in range(20))]\n",
    "for s in sizes:\n",
    "    r1 = MLPRegressor(hidden_layer_sizes=s,activation=\"relu\" ,random_state=1, solver = 'sgd', learning_rate = 'adaptive',\n",
    "                       max_iter=2000)\n",
    "    reg_r = r1.fit(X_trainscaled, y_train)\n",
    "    \n",
    "    r2 = MLPRegressor(hidden_layer_sizes=s,activation=\"logistic\" ,random_state=1, solver = 'sgd', learning_rate = 'adaptive',\n",
    "                       max_iter=2000)\n",
    "    reg_s = r2.fit(X_trainscaled, y_train)\n",
    "    \n",
    "    r3 = MLPRegressor(hidden_layer_sizes=s,activation=\"tanh\" ,random_state=1, solver = 'sgd', learning_rate = 'adaptive',\n",
    "                       max_iter=2000)\n",
    "    reg_t = r3.fit(X_trainscaled, y_train)\n",
    "    \n",
    "    \n",
    "    reg = [reg_r, reg_s, reg_t]\n",
    "    #print(r1.score)\n",
    "    for r in reg:\n",
    "        rep(r, X_testscaled, y_test, s)\n"
   ]
  },
  {
   "cell_type": "code",
   "execution_count": null,
   "metadata": {},
   "outputs": [],
   "source": []
  },
  {
   "cell_type": "code",
   "execution_count": 31,
   "metadata": {},
   "outputs": [
    {
     "ename": "ModuleNotFoundError",
     "evalue": "No module named 'pyearth'",
     "output_type": "error",
     "traceback": [
      "\u001b[1;31m---------------------------------------------------------------------------\u001b[0m",
      "\u001b[1;31mModuleNotFoundError\u001b[0m                       Traceback (most recent call last)",
      "\u001b[1;32m<ipython-input-31-740ea405c10c>\u001b[0m in \u001b[0;36m<module>\u001b[1;34m\u001b[0m\n\u001b[1;32m----> 1\u001b[1;33m \u001b[1;32mfrom\u001b[0m \u001b[0mpyearth\u001b[0m \u001b[1;32mimport\u001b[0m \u001b[0mEarth\u001b[0m\u001b[1;33m\u001b[0m\u001b[1;33m\u001b[0m\u001b[0m\n\u001b[0m",
      "\u001b[1;31mModuleNotFoundError\u001b[0m: No module named 'pyearth'"
     ]
    }
   ],
   "source": [
    "from pyearth import Earth"
   ]
  },
  {
   "cell_type": "code",
   "execution_count": 9,
   "metadata": {},
   "outputs": [
    {
     "ename": "NameError",
     "evalue": "name 'Earth' is not defined",
     "output_type": "error",
     "traceback": [
      "\u001b[1;31m---------------------------------------------------------------------------\u001b[0m",
      "\u001b[1;31mNameError\u001b[0m                                 Traceback (most recent call last)",
      "\u001b[1;32m<ipython-input-9-c81f2fcd6f6c>\u001b[0m in \u001b[0;36m<module>\u001b[1;34m\u001b[0m\n\u001b[0;32m      1\u001b[0m \u001b[1;31m#MARS Models\u001b[0m\u001b[1;33m\u001b[0m\u001b[1;33m\u001b[0m\u001b[1;33m\u001b[0m\u001b[0m\n\u001b[1;32m----> 2\u001b[1;33m \u001b[0mmodel\u001b[0m \u001b[1;33m=\u001b[0m \u001b[0mEarth\u001b[0m\u001b[1;33m(\u001b[0m\u001b[1;33m)\u001b[0m\u001b[1;33m\u001b[0m\u001b[1;33m\u001b[0m\u001b[0m\n\u001b[0m\u001b[0;32m      3\u001b[0m \u001b[0mmodel\u001b[0m\u001b[1;33m.\u001b[0m\u001b[0mfit\u001b[0m\u001b[1;33m(\u001b[0m\u001b[0mX_trainscaled\u001b[0m\u001b[1;33m,\u001b[0m\u001b[0my_train\u001b[0m\u001b[1;33m)\u001b[0m\u001b[1;33m\u001b[0m\u001b[1;33m\u001b[0m\u001b[0m\n\u001b[0;32m      4\u001b[0m \u001b[0mprint\u001b[0m\u001b[1;33m(\u001b[0m\u001b[0mmodel\u001b[0m\u001b[1;33m.\u001b[0m\u001b[0mtrace\u001b[0m\u001b[1;33m(\u001b[0m\u001b[1;33m)\u001b[0m\u001b[1;33m)\u001b[0m\u001b[1;33m\u001b[0m\u001b[1;33m\u001b[0m\u001b[0m\n\u001b[0;32m      5\u001b[0m \u001b[0mprint\u001b[0m\u001b[1;33m(\u001b[0m\u001b[0mmodel\u001b[0m\u001b[1;33m.\u001b[0m\u001b[0msummary\u001b[0m\u001b[1;33m(\u001b[0m\u001b[1;33m)\u001b[0m\u001b[1;33m)\u001b[0m\u001b[1;33m\u001b[0m\u001b[1;33m\u001b[0m\u001b[0m\n",
      "\u001b[1;31mNameError\u001b[0m: name 'Earth' is not defined"
     ]
    }
   ],
   "source": [
    "#MARS Models\n",
    "model = Earth()\n",
    "model.fit(X_trainscaled,y_train)\n",
    "print(model.trace())\n",
    "print(model.summary())"
   ]
  },
  {
   "cell_type": "code",
   "execution_count": 33,
   "metadata": {},
   "outputs": [
    {
     "data": {
      "text/plain": [
       "104"
      ]
     },
     "execution_count": 33,
     "metadata": {},
     "output_type": "execute_result"
    }
   ],
   "source": [
    "len(r.loss_curve_)\n",
    "\n",
    "len(y_test)"
   ]
  },
  {
   "cell_type": "code",
   "execution_count": 73,
   "metadata": {},
   "outputs": [
    {
     "name": "stdout",
     "output_type": "stream",
     "text": [
      "\n",
      "\n",
      "---------------------------------------\n",
      "---------------------------------------\n",
      "Model: tanh \n",
      "Layers: 102 \n",
      "Size: (100, 100, 100, 100, 100, 100, 100, 100, 100, 100, 100, 100, 100, 100, 100, 100, 100, 100, 100, 100, 100, 100, 100, 100, 100, 100, 100, 100, 100, 100, 100, 100, 100, 100, 100, 100, 100, 100, 100, 100, 100, 100, 100, 100, 100, 100, 100, 100, 100, 100, 100, 100, 100, 100, 100, 100, 100, 100, 100, 100, 100, 100, 100, 100, 100, 100, 100, 100, 100, 100, 100, 100, 100, 100, 100, 100, 100, 100, 100, 100, 100, 100, 100, 100, 100, 100, 100, 100, 100, 100, 100, 100, 100, 100, 100, 100, 100, 100, 100, 100)\n",
      "Mean Response: 1\n",
      "MSE: 1.73\n",
      "Relative MSE: 156.89% of mean response.\n",
      "R^2 Score: -0.0\n",
      "Explained Variace: -0.0\n",
      "Mean Absolute Error: 1.01\n",
      "---------------------------------------\n",
      "---------------------------------------\n",
      "\n",
      "\n"
     ]
    },
    {
     "data": {
      "image/png": "[encoded data removed]",
      "text/plain": [
       "<Figure size 432x288 with 1 Axes>"
      ]
     },
     "metadata": {
      "needs_background": "light"
     },
     "output_type": "display_data"
    }
   ],
   "source": [
    "s = tuple(100 for i in range(100))\n",
    "r2 = MLPRegressor(hidden_layer_sizes = s, activation = \"tanh\", max_iter=2000).fit(X_trainscaled, y_train)\n",
    "\n",
    "rep(r2, X_testscaled, y_test, s)"
   ]
  },
  {
   "cell_type": "code",
   "execution_count": 179,
   "metadata": {},
   "outputs": [],
   "source": [
    "#dir(r2)\n",
    "#r2.activation"
   ]
  },
  {
   "cell_type": "code",
   "execution_count": 72,
   "metadata": {},
   "outputs": [
    {
     "data": {
      "text/plain": [
       "1.6230199645019563"
      ]
     },
     "execution_count": 72,
     "metadata": {},
     "output_type": "execute_result"
    }
   ],
   "source": [
    "y_pred2=r2.predict(X_testscaled)\n",
    "np.min(y_pred2)"
   ]
  },
  {
   "cell_type": "code",
   "execution_count": null,
   "metadata": {},
   "outputs": [],
   "source": []
  },
  {
   "cell_type": "code",
   "execution_count": 84,
   "metadata": {},
   "outputs": [
    {
     "data": {
      "text/plain": [
       "12"
      ]
     },
     "execution_count": 84,
     "metadata": {},
     "output_type": "execute_result"
    }
   ],
   "source": [
    "r2.n_features_in_"
   ]
  },
  {
   "cell_type": "code",
   "execution_count": 90,
   "metadata": {},
   "outputs": [
    {
     "data": {
      "text/plain": [
       "104"
      ]
     },
     "execution_count": 90,
     "metadata": {},
     "output_type": "execute_result"
    }
   ],
   "source": [
    "len(y_test)"
   ]
  },
  {
   "cell_type": "code",
   "execution_count": null,
   "metadata": {},
   "outputs": [],
   "source": []
  },
  {
   "cell_type": "code",
   "execution_count": null,
   "metadata": {},
   "outputs": [],
   "source": []
  },
  {
   "cell_type": "code",
   "execution_count": null,
   "metadata": {},
   "outputs": [],
   "source": []
  },
  {
   "cell_type": "code",
   "execution_count": null,
   "metadata": {},
   "outputs": [],
   "source": []
  },
  {
   "cell_type": "code",
   "execution_count": 90,
   "metadata": {},
   "outputs": [],
   "source": []
  },
  {
   "cell_type": "code",
   "execution_count": null,
   "metadata": {},
   "outputs": [],
   "source": []
  }
 ],
 "metadata": {
  "celltoolbar": "Raw Cell Format",
  "kernelspec": {
   "display_name": "Python 3",
   "language": "python",
   "name": "python3"
  },
  "language_info": {
   "codemirror_mode": {
    "name": "ipython",
    "version": 3
   },
   "file_extension": ".py",
   "mimetype": "text/x-python",
   "name": "python",
   "nbconvert_exporter": "python",
   "pygments_lexer": "ipython3",
   "version": "3.8.5"
  }
 },
 "nbformat": 4,
 "nbformat_minor": 4
}
